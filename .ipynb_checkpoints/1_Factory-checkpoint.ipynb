{
 "cells": [
  {
   "cell_type": "markdown",
   "metadata": {},
   "source": [
    "### Dynamically create different objects types."
   ]
  },
  {
   "cell_type": "markdown",
   "metadata": {},
   "source": [
    "- User may have own like bicycle, bike, car, truck. So we might need any types of object anytime.\n",
    "- User may create several documents of different types."
   ]
  },
  {
   "cell_type": "markdown",
   "metadata": {},
   "source": [
    "#### Factory Method pattern uses inheritance and relies on a subclass to handle the desired object instantiation."
   ]
  },
  {
   "cell_type": "code",
   "execution_count": 3,
   "metadata": {},
   "outputs": [
    {
     "name": "stdout",
     "output_type": "stream",
     "text": [
      "Racecar driving.\n"
     ]
    }
   ],
   "source": [
    "class Car(object):\n",
    "    \n",
    "    @staticmethod\n",
    "    def factory(type):\n",
    "        if type == \"Racecar\":\n",
    "            return Racecar()\n",
    "        if type == \"Van\":\n",
    "            return Van()\n",
    "        assert 0, \"Bad car creation: \" + type\n",
    " \n",
    "class Racecar(Car):\n",
    "    def drive(self): \n",
    "        print(\"Racecar driving.\")\n",
    " \n",
    "class Van(Car):\n",
    "    def drive(self): \n",
    "        print(\"Van driving.\") \n",
    "\n",
    " \n",
    "# Create object using factory.\n",
    "obj = Car.factory(\"Racecar\")\n",
    "obj.drive()"
   ]
  },
  {
   "cell_type": "markdown",
   "metadata": {},
   "source": [
    "#### Code has to change to accomodate new types"
   ]
  }
 ],
 "metadata": {
  "kernelspec": {
   "display_name": "Python 3",
   "language": "python",
   "name": "python3"
  },
  "language_info": {
   "codemirror_mode": {
    "name": "ipython",
    "version": 3
   },
   "file_extension": ".py",
   "mimetype": "text/x-python",
   "name": "python",
   "nbconvert_exporter": "python",
   "pygments_lexer": "ipython3",
   "version": "3.6.5"
  }
 },
 "nbformat": 4,
 "nbformat_minor": 2
}
