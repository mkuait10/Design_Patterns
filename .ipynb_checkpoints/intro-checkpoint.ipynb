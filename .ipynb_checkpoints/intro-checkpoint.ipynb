{
 "cells": [
  {
   "cell_type": "markdown",
   "metadata": {},
   "source": [
    "### Design pattern - Well known and documented solutions to recurring challenges in Object oriented programming."
   ]
  },
  {
   "cell_type": "markdown",
   "metadata": {},
   "source": [
    "### 3 types of design patterns"
   ]
  },
  {
   "cell_type": "markdown",
   "metadata": {},
   "source": [
    "- Creational\n",
    "- Structural\n",
    "- Behavioral"
   ]
  },
  {
   "cell_type": "markdown",
   "metadata": {},
   "source": [
    "### Creational : Used while we create objects\n",
    "\n",
    "- Singleton\n",
    "- Factory\n",
    "- Abstract Factory\n",
    "- Builder\n",
    "- Prototype"
   ]
  },
  {
   "cell_type": "markdown",
   "metadata": {},
   "source": [
    "### Structural : Assemble classes and their instances during runtime\n",
    "- Decorator\n",
    "- Proxy\n",
    "- Adaptor\n",
    "- Composite\n",
    "- Bridge"
   ]
  },
  {
   "cell_type": "markdown",
   "metadata": {},
   "source": [
    "### Behavioral : Regulate communication among objects\n",
    "- Observer\n",
    "- Visitor\n",
    "- Iterator\n",
    "- Strategy\n",
    "- Chain of Responsibility\n",
    "- template"
   ]
  }
 ],
 "metadata": {
  "kernelspec": {
   "display_name": "Python 3",
   "language": "python",
   "name": "python3"
  },
  "language_info": {
   "codemirror_mode": {
    "name": "ipython",
    "version": 3
   },
   "file_extension": ".py",
   "mimetype": "text/x-python",
   "name": "python",
   "nbconvert_exporter": "python",
   "pygments_lexer": "ipython3",
   "version": "3.6.5"
  }
 },
 "nbformat": 4,
 "nbformat_minor": 2
}
