{
 "cells": [
  {
   "cell_type": "markdown",
   "metadata": {},
   "source": [
    "### Observe and notify other classes of any change to them."
   ]
  },
  {
   "cell_type": "code",
   "execution_count": 2,
   "metadata": {},
   "outputs": [
    {
     "name": "stdout",
     "output_type": "stream",
     "text": [
      "Got 1 ('test',) {} From <__main__.Observable object at 0x000001CDA4BE2DA0>\n",
      "Got 2 ('test',) {} From <__main__.Observable object at 0x000001CDA4BE2DA0>\n"
     ]
    }
   ],
   "source": [
    "class Observable:\n",
    "    def __init__(self):\n",
    "        self.__observers = []\n",
    "    \n",
    "    def register_observer(self, observer):\n",
    "        self.__observers.append(observer)\n",
    "    \n",
    "    def notify_observers(self, *args, **kwargs):\n",
    "        for observer in self.__observers:\n",
    "            observer.notify(self, *args, **kwargs)\n",
    "\n",
    "class Observer1:\n",
    "    def __init__(self, observable):\n",
    "        observable.register_observer(self)\n",
    "    \n",
    "    def notify(self, observable, *args, **kwargs):\n",
    "        print('Got 1', args, kwargs, 'From', observable)\n",
    "  \n",
    "class Observer2:\n",
    "    def __init__(self, observable):\n",
    "        observable.register_observer(self)\n",
    "    \n",
    "    def notify(self, observable, *args, **kwargs):\n",
    "        print('Got 2', args, kwargs, 'From', observable)\n",
    "\n",
    "\n",
    "subject = Observable()\n",
    "observer1 = Observer1(subject)\n",
    "observer2 = Observer2(subject)\n",
    "subject.notify_observers('test')"
   ]
  },
  {
   "cell_type": "code",
   "execution_count": null,
   "metadata": {},
   "outputs": [],
   "source": []
  }
 ],
 "metadata": {
  "kernelspec": {
   "display_name": "Python 3",
   "language": "python",
   "name": "python3"
  },
  "language_info": {
   "codemirror_mode": {
    "name": "ipython",
    "version": 3
   },
   "file_extension": ".py",
   "mimetype": "text/x-python",
   "name": "python",
   "nbconvert_exporter": "python",
   "pygments_lexer": "ipython3",
   "version": "3.6.5"
  }
 },
 "nbformat": 4,
 "nbformat_minor": 2
}
