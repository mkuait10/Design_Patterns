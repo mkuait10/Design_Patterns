{
 "cells": [
  {
   "cell_type": "markdown",
   "metadata": {},
   "source": [
    "### Extend a beahaviour by not changing any existing code "
   ]
  },
  {
   "cell_type": "markdown",
   "metadata": {},
   "source": [
    "- User can create new type easily.\n",
    "- Unlike abstract pattern, it's base factory method is not fixed. Inheriting member should implement their methods."
   ]
  },
  {
   "cell_type": "markdown",
   "metadata": {},
   "source": [
    "#### Class delegates the responsibility of object instantiation to another object via composition ..."
   ]
  },
  {
   "cell_type": "markdown",
   "metadata": {},
   "source": [
    "i.e - Create a OS which supports watches"
   ]
  },
  {
   "cell_type": "code",
   "execution_count": 5,
   "metadata": {},
   "outputs": [],
   "source": [
    "from abc import ABCMeta, abstractmethod\n",
    "\n",
    "class ApplicationsFactory:\n",
    "    __metaclass__ = ABCMeta\n",
    "\n",
    "    def __init__(self):\n",
    "        super(ApplicationsFactory, self)\n",
    "\n",
    "    @abstractmethod\n",
    "    def getMusicPlayer(self):\n",
    "        pass\n",
    "\n",
    "    @abstractmethod\n",
    "    def getPhotoViewer(self):\n",
    "        pass"
   ]
  },
  {
   "cell_type": "markdown",
   "metadata": {},
   "source": [
    "#### Now initially support only ios and android. Define concrete Factory classes."
   ]
  },
  {
   "cell_type": "code",
   "execution_count": null,
   "metadata": {},
   "outputs": [],
   "source": [
    "class AppleApplicationsFactory(ApplicationsFactory):\n",
    "\n",
    "\tdef __init__(self):\n",
    "\t\tsuper(AppleApplicationsFactory,self)\n",
    "\n",
    "\tdef getMusicPlayer(self):\n",
    "\t\treturn AppleMusicPlayer();\n",
    "\n",
    "\tdef getPhotoViewer(self):\n",
    "\t\treturn ApplePhotoViewer()\n",
    "\n",
    "\n",
    "class AndroidApplicationsFactory(ApplicationsFactory):\n",
    "\n",
    "\tdef __init__(self):\n",
    "\t\tsuper(AndroidApplicationsFactory,self)\n",
    "\n",
    "\tdef getMusicPlayer(self):\n",
    "\t\treturn AndroidMusicPlayer();\n",
    "\n",
    "\tdef getPhotoViewer(self):\n",
    "\t\treturn AndroidPhotoViewer()"
   ]
  },
  {
   "cell_type": "markdown",
   "metadata": {},
   "source": [
    "#### Now requirement is to support windows also. So without changing any code we define one more class."
   ]
  },
  {
   "cell_type": "code",
   "execution_count": 10,
   "metadata": {},
   "outputs": [],
   "source": [
    "class WindowsApplicationsFactory(ApplicationsFactory):\n",
    "\n",
    "\tdef __init__(self):\n",
    "\t\tsuper(WindowsApplicationsFactory,self)\n",
    "\n",
    "\tdef getMusicPlayer(self):\n",
    "\t\treturn WindowsMusicPlayer();\n",
    "\n",
    "\tdef getPhotoViewer(self):\n",
    "\t\treturn WindowsPhotoViewer()"
   ]
  },
  {
   "cell_type": "markdown",
   "metadata": {},
   "source": [
    "#### Only change/add in selector method."
   ]
  },
  {
   "cell_type": "code",
   "execution_count": 14,
   "metadata": {},
   "outputs": [],
   "source": [
    "def getPlatformFactory(plat):\n",
    "\t## We need a function which returns factory based on which platform we are\n",
    "\tfactory_dict={\n",
    "\t\"Android\":AndroidApplicationsFactory(),\n",
    "\t\"Apple\":AppleApplicationsFactory(),\n",
    "        \"Windows\": WindowsApplicationsFactory()\n",
    "\t}\n",
    "\treturn factory_dict[plat]"
   ]
  },
  {
   "cell_type": "markdown",
   "metadata": {},
   "source": [
    "#### Choose right factory for your requirement"
   ]
  },
  {
   "cell_type": "code",
   "execution_count": 16,
   "metadata": {},
   "outputs": [
    {
     "ename": "NameError",
     "evalue": "name 'AndroidMusicPlayer' is not defined",
     "output_type": "error",
     "traceback": [
      "\u001b[1;31m---------------------------------------------------------------------------\u001b[0m",
      "\u001b[1;31mNameError\u001b[0m                                 Traceback (most recent call last)",
      "\u001b[1;32m<ipython-input-16-f8ab3f369e8a>\u001b[0m in \u001b[0;36m<module>\u001b[1;34m()\u001b[0m\n\u001b[0;32m      5\u001b[0m \u001b[0mapp_factory\u001b[0m\u001b[1;33m=\u001b[0m\u001b[0mgetPlatformFactory\u001b[0m\u001b[1;33m(\u001b[0m\u001b[0mplatform\u001b[0m\u001b[1;33m)\u001b[0m\u001b[1;33m\u001b[0m\u001b[0m\n\u001b[0;32m      6\u001b[0m \u001b[1;33m\u001b[0m\u001b[0m\n\u001b[1;32m----> 7\u001b[1;33m \u001b[0mmusic_player\u001b[0m\u001b[1;33m=\u001b[0m\u001b[0mapp_factory\u001b[0m\u001b[1;33m.\u001b[0m\u001b[0mgetMusicPlayer\u001b[0m\u001b[1;33m(\u001b[0m\u001b[1;33m)\u001b[0m\u001b[1;33m\u001b[0m\u001b[0m\n\u001b[0m\u001b[0;32m      8\u001b[0m \u001b[1;33m\u001b[0m\u001b[0m\n\u001b[0;32m      9\u001b[0m \u001b[0mprint\u001b[0m\u001b[1;33m(\u001b[0m\u001b[0mmusic_player\u001b[0m\u001b[1;33m.\u001b[0m\u001b[0mplayMusic\u001b[0m\u001b[1;33m(\u001b[0m\u001b[1;34m\"Cheap Thrills\"\u001b[0m\u001b[1;33m)\u001b[0m\u001b[1;33m)\u001b[0m\u001b[1;33m\u001b[0m\u001b[0m\n",
      "\u001b[1;32m<ipython-input-8-0d838ee3f560>\u001b[0m in \u001b[0;36mgetMusicPlayer\u001b[1;34m(self)\u001b[0m\n\u001b[0;32m     17\u001b[0m \u001b[1;33m\u001b[0m\u001b[0m\n\u001b[0;32m     18\u001b[0m         \u001b[1;32mdef\u001b[0m \u001b[0mgetMusicPlayer\u001b[0m\u001b[1;33m(\u001b[0m\u001b[0mself\u001b[0m\u001b[1;33m)\u001b[0m\u001b[1;33m:\u001b[0m\u001b[1;33m\u001b[0m\u001b[0m\n\u001b[1;32m---> 19\u001b[1;33m                 \u001b[1;32mreturn\u001b[0m \u001b[0mAndroidMusicPlayer\u001b[0m\u001b[1;33m(\u001b[0m\u001b[1;33m)\u001b[0m\u001b[1;33m;\u001b[0m\u001b[1;33m\u001b[0m\u001b[0m\n\u001b[0m\u001b[0;32m     20\u001b[0m \u001b[1;33m\u001b[0m\u001b[0m\n\u001b[0;32m     21\u001b[0m         \u001b[1;32mdef\u001b[0m \u001b[0mgetPhotoViewer\u001b[0m\u001b[1;33m(\u001b[0m\u001b[0mself\u001b[0m\u001b[1;33m)\u001b[0m\u001b[1;33m:\u001b[0m\u001b[1;33m\u001b[0m\u001b[0m\n",
      "\u001b[1;31mNameError\u001b[0m: name 'AndroidMusicPlayer' is not defined"
     ]
    }
   ],
   "source": [
    "## First define a platform \n",
    "\n",
    "platform=\"Android\"\n",
    "\n",
    "app_factory=getPlatformFactory(platform)\n",
    "\n",
    "music_player=app_factory.getMusicPlayer()\n",
    "\n",
    "print(music_player.playMusic(\"Cheap Thrills\"))"
   ]
  },
  {
   "cell_type": "code",
   "execution_count": null,
   "metadata": {},
   "outputs": [],
   "source": []
  }
 ],
 "metadata": {
  "kernelspec": {
   "display_name": "Python 3",
   "language": "python",
   "name": "python3"
  },
  "language_info": {
   "codemirror_mode": {
    "name": "ipython",
    "version": 3
   },
   "file_extension": ".py",
   "mimetype": "text/x-python",
   "name": "python",
   "nbconvert_exporter": "python",
   "pygments_lexer": "ipython3",
   "version": "3.6.5"
  }
 },
 "nbformat": 4,
 "nbformat_minor": 2
}
